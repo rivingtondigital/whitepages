{
 "cells": [
  {
   "cell_type": "code",
   "execution_count": 1,
   "metadata": {
    "collapsed": false
   },
   "outputs": [],
   "source": [
    "from IPython.display import Image as ipImage\n",
    "import numpy as np\n",
    "from PIL import Image\n",
    "from collections import namedtuple\n",
    "import pytesseract"
   ]
  },
  {
   "cell_type": "code",
   "execution_count": 38,
   "metadata": {
    "collapsed": false
   },
   "outputs": [],
   "source": [
    "class Band:\n",
    "    __slots__ = ('start', 'width')\n",
    "    def __init__(self, first, last):\n",
    "        self.first = first\n",
    "        self.last = last\n",
    "    \n",
    "    @property\n",
    "    def width(self):\n",
    "        return self.last - self.first\n",
    "    \n",
    "    def is_el(self, context_width):\n",
    "        if self.width < 1:\n",
    "            return False\n",
    "        if self.first == 0:\n",
    "            return False\n",
    "        if self.last == context_width-1:\n",
    "            return False\n",
    "        return True\n",
    "    \n",
    "    def __repr__(self):\n",
    "        return \"{}:{} => {}\".format(self.first, self.last, self.width)\n",
    "    \n",
    "class MaskedSection:\n",
    "    def __init__(self, parent, top, bottom, orientation=None, bits=None, structure=None):\n",
    "        self.parent = parent\n",
    "        self.top = top\n",
    "        self.bottom = bottom\n",
    "        self._bands = []\n",
    "        if parent:\n",
    "            self.bits = parent.bits[top:bottom]\n",
    "            self.orientation = self.parent.orientation * -1\n",
    "            \n",
    "            if self.orientation == -1:\n",
    "                self.bits = self.rotate_fw(self.bits)\n",
    "            else:\n",
    "                self.bits = self.rotate_rv(self.bits)\n",
    "        else:\n",
    "            self.orientation = 1\n",
    "            self.bits = bits\n",
    "                \n",
    "    @classmethod\n",
    "    def PartitionMask(cls, im):\n",
    "        bits = np.asarray(im, dtype='bool')\n",
    "        return cls(parent=None, top=0, bottom=len(bits)-1, bits=bits)\n",
    "        \n",
    "    @property\n",
    "    def children(self):\n",
    "        _children = []\n",
    "        top = 0\n",
    "        if not self.bands:\n",
    "            return _children\n",
    "        for i, b in enumerate(self.bands):\n",
    "            _children.append(MaskedSection(self, top, b.first+1))\n",
    "            top = b.last\n",
    "        _children.append(MaskedSection(self, b.last, self.bottom))\n",
    "        return _children\n",
    "            \n",
    "    @property\n",
    "    def context(self):\n",
    "        if parent == None:\n",
    "            return self.bits\n",
    "        return self.parent.context\n",
    "    \n",
    "    @property\n",
    "    def bands(self):\n",
    "        if not self._bands:\n",
    "            self._bands = self.find_bands(self.bits)\n",
    "            self._bands = self.filter_bands(self._bands)\n",
    "            self._bands = sorted(self._bands, key=lambda x: x.first)\n",
    "        return self._bands\n",
    "    \n",
    "    @property\n",
    "    def agg_bits(self):\n",
    "        bits = np.array(self.bits, copy=True)\n",
    "        for child in self.children:\n",
    "            print child.top, child.bottom\n",
    "            bits[child.top: child.bottom] &= child.agg_bits\n",
    "        mask = self.mask\n",
    "        bits &= mask\n",
    "        if self.orientation == -1:\n",
    "            bits = self.rotate_rv(bits)\n",
    "        return bits\n",
    "        \n",
    "    @property\n",
    "    def image(self):\n",
    "        if self.orientation == -1:\n",
    "            bits = self.rotate_rv(self.bits)\n",
    "        else:\n",
    "            bits = self.bits\n",
    "        return Image.fromarray(bits.astype('uint8')*255)\n",
    "    \n",
    "    @property\n",
    "    def text(self):\n",
    "        return pytesseract.image_to_string(self.image)\n",
    "                \n",
    "    @staticmethod\n",
    "    def bander(bits):\n",
    "        (rows, columns) = bits.shape\n",
    "        blank_row = columns\n",
    "        band = Band(first=0, last=0)\n",
    "        for i in range(rows):\n",
    "            if sum(bits[i]) < blank_row:\n",
    "                if band.is_el(rows):\n",
    "                    yield band\n",
    "                band = Band(first=i, last=i)\n",
    "            else:\n",
    "                band.last = i\n",
    "        \n",
    "    @property\n",
    "    def mask(self):\n",
    "        _mask = np.ones_like(self.bits.shape, dtype='bool')        \n",
    "        for b in self.bands:\n",
    "            for i in range(b.width):\n",
    "                _mask[b.first + i] = 0\n",
    "        return _mask\n",
    "    \n",
    "    @staticmethod\n",
    "    def make_mask(bands, orig):\n",
    "        mask = np.ones_like(orig)\n",
    "        for b in bands:\n",
    "            for i in range(b.width):\n",
    "                mask[b.first:i] = 0\n",
    "        return mask\n",
    "    \n",
    "    @staticmethod\n",
    "    def make_im(bits):\n",
    "        return Image.fromarray(bits.astype('uint8')*255)\n",
    "    \n",
    "    @staticmethod\n",
    "    def rotate_fw(bits):\n",
    "        return np.rot90(bits, 3)\n",
    "    \n",
    "    @staticmethod\n",
    "    def rotate_rv(bits):\n",
    "        return np.rot90(bits, 1)\n",
    "    \n",
    "    @staticmethod\n",
    "    def filter_bands(bands):\n",
    "        return [x for x in bands if (bands[0].width * 1.0/ x.width) < 1.8]\n",
    "\n",
    "    @staticmethod\n",
    "    def find_bands(bits):\n",
    "        bands = [x for x in MaskedSection.bander(bits)]\n",
    "        ordered_bands = sorted(bands, key=lambda x: x.width, reverse=True)\n",
    "        return ordered_bands\n"
   ]
  },
  {
   "cell_type": "code",
   "execution_count": 39,
   "metadata": {
    "collapsed": false
   },
   "outputs": [],
   "source": [
    "im = Image.open('pdfs/whiteind-0.png').convert('L')"
   ]
  },
  {
   "cell_type": "code",
   "execution_count": 40,
   "metadata": {
    "collapsed": false
   },
   "outputs": [],
   "source": [
    "top = MaskedSection.PartitionMask(im)"
   ]
  },
  {
   "cell_type": "code",
   "execution_count": 48,
   "metadata": {
    "collapsed": false
   },
   "outputs": [
    {
     "data": {
      "image/png": "[encoded data removed]",
      "text/plain": [
       "<PIL.Image.Image image mode=L size=476x142 at 0x7FA57C6EBF90>"
      ]
     },
     "execution_count": 48,
     "metadata": {},
     "output_type": "execute_result"
    }
   ],
   "source": [
    "top.children[1].children[0].children[6].children[0].image"
   ]
  },
  {
   "cell_type": "code",
   "execution_count": 47,
   "metadata": {
    "collapsed": false
   },
   "outputs": [
    {
     "data": {
      "text/plain": [
       "'SKAN5A\\n\\n@FUTU RED REAMSCAP'"
      ]
     },
     "execution_count": 47,
     "metadata": {},
     "output_type": "execute_result"
    }
   ],
   "source": [
    "top.children[1].children[0].children[6].children[0].children[1].text"
   ]
  },
  {
   "cell_type": "code",
   "execution_count": 8,
   "metadata": {
    "collapsed": false
   },
   "outputs": [
    {
     "data": {
      "text/plain": [
       "<__main__.MaskedSection instance at 0x7fa57c7d3cb0>"
      ]
     },
     "execution_count": 8,
     "metadata": {},
     "output_type": "execute_result"
    }
   ],
   "source": [
    "struct = {\n",
    "    'page':{\n",
    "        'top': 'header',\n",
    "        'columns': {\n",
    "            'listing':{\n",
    "                'name': 'name',\n",
    "                'email': 'email',\n",
    "                'web': 'web',\n",
    "                'address': 'address'\n",
    "            }\n",
    "        },\n",
    "        'footer': 'footer'\n",
    "    }    \n",
    "}"
   ]
  },
  {
   "cell_type": "code",
   "execution_count": 62,
   "metadata": {
    "collapsed": false
   },
   "outputs": [],
   "source": [
    "im = MaskedSection.make_im(MaskedSection.rotate_rv(kids[1].children[0].children[1].bits))"
   ]
  },
  {
   "cell_type": "code",
   "execution_count": 65,
   "metadata": {
    "collapsed": false
   },
   "outputs": [
    {
     "data": {
      "text/plain": [
       "'1FLOWERS@CALLAME Fl. COM\\nhan/www.callamer.corn/~1flowers/\\nan FLOWERS\\n\\naao\\n\\nSANTABAHBAHA CA US'"
      ]
     },
     "execution_count": 65,
     "metadata": {},
     "output_type": "execute_result"
    }
   ],
   "source": [
    "pytesseract.image_to_string(im)"
   ]
  },
  {
   "cell_type": "code",
   "execution_count": 49,
   "metadata": {
    "collapsed": false
   },
   "outputs": [],
   "source": [
    "class Mask:\n",
    "    def __init__(self, ary):\n",
    "        self.ary = ary\n",
    "        self.sections = SecTree()\n",
    "        \n",
    "    def build(self):\n",
    "        for b in filtered_bands:\n",
    "            for i in range(b.width):\n",
    "                mask[b.first + i] = 0        \n",
    "        \n"
   ]
  },
  {
   "cell_type": "code",
   "execution_count": null,
   "metadata": {
    "collapsed": false
   },
   "outputs": [],
   "source": [
    "bands = [x for x in MaskedSection.bander(gs)]\n",
    "bands"
   ]
  },
  {
   "cell_type": "code",
   "execution_count": null,
   "metadata": {
    "collapsed": false
   },
   "outputs": [],
   "source": [
    "sorted_bands = sorted(bands, key=lambda x: x.width, reverse=True)"
   ]
  },
  {
   "cell_type": "code",
   "execution_count": null,
   "metadata": {
    "collapsed": false
   },
   "outputs": [],
   "source": [
    "sorted_bands\n",
    "[x for x in sorted_bands if x ]"
   ]
  },
  {
   "cell_type": "code",
   "execution_count": null,
   "metadata": {
    "collapsed": false
   },
   "outputs": [],
   "source": [
    "x = 23.0\n",
    "y = 26.0k\n",
    "import math\n",
    "filtered_bands = [x for x in sorted_bands if math.sqrt( x.width / sorted_bands[0].width) > 0.9]"
   ]
  },
  {
   "cell_type": "code",
   "execution_count": null,
   "metadata": {
    "collapsed": false
   },
   "outputs": [],
   "source": [
    "mask = np.ones_like(gs)"
   ]
  },
  {
   "cell_type": "code",
   "execution_count": null,
   "metadata": {
    "collapsed": false
   },
   "outputs": [],
   "source": [
    "for b in filtered_bands:\n",
    "    for i in range(b.width):\n",
    "        mask[b.first + i] = 0"
   ]
  },
  {
   "cell_type": "code",
   "execution_count": null,
   "metadata": {
    "collapsed": false
   },
   "outputs": [],
   "source": [
    "r = mask[3141]"
   ]
  },
  {
   "cell_type": "code",
   "execution_count": null,
   "metadata": {
    "collapsed": false
   },
   "outputs": [],
   "source": [
    "sub_im_1 = gs[:508]\n",
    "sub_im_2 = gs[530:3079]\n",
    "sub_im_3 = gs[3116:]"
   ]
  },
  {
   "cell_type": "code",
   "execution_count": null,
   "metadata": {
    "collapsed": false
   },
   "outputs": [],
   "source": [
    "sub_im_2_tr = np.rot90(sub_im_2, 3)\n",
    "bands = [x for x in MaskedSection.bander(sub_im_2_tr)]\n",
    "sorted_bands = sorted(bands, key=lambda x: x.width, reverse=True)\n",
    "print sorted_bands\n",
    "filtered_bands = [x for x in sorted_bands if math.sqrt( x.width / sorted_bands[0].width) > 0.2]\n",
    "filtered_bands\n",
    "[(math.sqrt(sorted_bands[0].width) - math.sqrt(x.width))**2 for x in sorted_bands]"
   ]
  },
  {
   "cell_type": "code",
   "execution_count": null,
   "metadata": {
    "collapsed": false
   },
   "outputs": [],
   "source": [
    "MaskedSection.make_im(sub_im_2_tr)\n",
    "bands = MaskedSection.find_bands(sub_im_2_tr)\n",
    "filtered = MaskedSection.filter_bands(bands)\n",
    "mask = MaskedSection.make_mask(filtered, sub_im_2_tr)\n",
    "mask_im = MaskedSection.make_im(mask)\n",
    "im = MaskedSection.make_im(sub_im_2_tr)\n",
    "im = Image.fromarray(sub_im_2_tr)\n",
    "Image.blend(mask_im, im, 0.3)"
   ]
  },
  {
   "cell_type": "code",
   "execution_count": null,
   "metadata": {
    "collapsed": false
   },
   "outputs": [],
   "source": [
    "sorts = [126.1, 125.9, 124.9, 111.5, 1011, 1]\n",
    "print [(sorts[0]) / x for x in sorts]\n",
    "[x for x in bands if (bands[0].width/ x.width) > 1]"
   ]
  },
  {
   "cell_type": "code",
   "execution_count": null,
   "metadata": {
    "collapsed": false
   },
   "outputs": [],
   "source": [
    "Image.fromarray(sub_im_2_tr.astype('uint8'))"
   ]
  },
  {
   "cell_type": "code",
   "execution_count": null,
   "metadata": {
    "collapsed": false,
    "scrolled": false
   },
   "outputs": [],
   "source": [
    "mask_im = Image.fromarray(mask.astype('uint8')*255)"
   ]
  },
  {
   "cell_type": "code",
   "execution_count": null,
   "metadata": {
    "collapsed": false
   },
   "outputs": [],
   "source": [
    "Image.blend(im, mask_im, 0.2)"
   ]
  },
  {
   "cell_type": "code",
   "execution_count": null,
   "metadata": {
    "collapsed": true
   },
   "outputs": [],
   "source": []
  }
 ],
 "metadata": {
  "kernelspec": {
   "display_name": "Python 2",
   "language": "python",
   "name": "python2"
  },
  "language_info": {
   "codemirror_mode": {
    "name": "ipython",
    "version": 2
   },
   "file_extension": ".py",
   "mimetype": "text/x-python",
   "name": "python",
   "nbconvert_exporter": "python",
   "pygments_lexer": "ipython2",
   "version": "2.7.10"
  }
 },
 "nbformat": 4,
 "nbformat_minor": 0
}
